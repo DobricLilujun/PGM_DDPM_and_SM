{
 "cells": [
  {
   "cell_type": "markdown",
   "metadata": {},
   "source": [
    "# Base Definition"
   ]
  },
  {
   "cell_type": "code",
   "execution_count": 2,
   "metadata": {},
   "outputs": [
    {
     "name": "stderr",
     "output_type": "stream",
     "text": [
      "/home/lujun/anaconda3/envs/smdp/lib/python3.8/site-packages/diffrax/custom_types.py:133: FutureWarning: jax.tree_structure is deprecated, and will be removed in a future release. Use jax.tree_util.tree_structure instead.\n",
      "  PyTreeDef = type(jax.tree_structure(0))\n",
      "/home/lujun/anaconda3/envs/smdp/lib/python3.8/site-packages/diffrax/solver/runge_kutta.py:116: FutureWarning: jax.tree_structure is deprecated, and will be removed in a future release. Use jax.tree_util.tree_structure instead.\n",
      "  term_structure = jax.tree_structure(0)\n",
      "/home/lujun/anaconda3/envs/smdp/lib/python3.8/site-packages/diffrax/solver/euler.py:25: FutureWarning: jax.tree_structure is deprecated, and will be removed in a future release. Use jax.tree_util.tree_structure instead.\n",
      "  term_structure = jax.tree_structure(0)\n",
      "/home/lujun/anaconda3/envs/smdp/lib/python3.8/site-packages/diffrax/solver/euler_heun.py:23: FutureWarning: jax.tree_structure is deprecated, and will be removed in a future release. Use jax.tree_util.tree_structure instead.\n",
      "  term_structure = jax.tree_structure((0, 0))\n",
      "/home/lujun/anaconda3/envs/smdp/lib/python3.8/site-packages/diffrax/solver/implicit_euler.py:29: FutureWarning: jax.tree_structure is deprecated, and will be removed in a future release. Use jax.tree_util.tree_structure instead.\n",
      "  term_structure = jax.tree_structure(0)\n",
      "/home/lujun/anaconda3/envs/smdp/lib/python3.8/site-packages/diffrax/solver/leapfrog_midpoint.py:43: FutureWarning: jax.tree_structure is deprecated, and will be removed in a future release. Use jax.tree_util.tree_structure instead.\n",
      "  term_structure = jax.tree_structure(0)\n",
      "/home/lujun/anaconda3/envs/smdp/lib/python3.8/site-packages/diffrax/solver/milstein.py:38: FutureWarning: jax.tree_structure is deprecated, and will be removed in a future release. Use jax.tree_util.tree_structure instead.\n",
      "  term_structure = jax.tree_structure((0, 0))\n",
      "/home/lujun/anaconda3/envs/smdp/lib/python3.8/site-packages/diffrax/solver/milstein.py:86: FutureWarning: jax.tree_structure is deprecated, and will be removed in a future release. Use jax.tree_util.tree_structure instead.\n",
      "  term_structure = jax.tree_structure((0, 0))\n",
      "/home/lujun/anaconda3/envs/smdp/lib/python3.8/site-packages/diffrax/solver/reversible_heun.py:37: FutureWarning: jax.tree_structure is deprecated, and will be removed in a future release. Use jax.tree_util.tree_structure instead.\n",
      "  term_structure = jax.tree_structure(0)\n",
      "/home/lujun/anaconda3/envs/smdp/lib/python3.8/site-packages/diffrax/solver/semi_implicit_euler.py:23: FutureWarning: jax.tree_structure is deprecated, and will be removed in a future release. Use jax.tree_util.tree_structure instead.\n",
      "  term_structure = jax.tree_structure((0, 0))\n"
     ]
    }
   ],
   "source": [
    "import warnings\n",
    "from typing import Any, Callable, Iterable, List, Optional, Tuple, Union\n",
    "import jax # Numerical computing library for GPU/TPU accelerators\n",
    "import jax.random as jr\n",
    "import jax.numpy as jnp\n",
    "import optax # Optax: A gradient processing and optimization library for JAX\n",
    "import haiku as hk # Haiku: A neural network library for JAX\n",
    "import numpy as np\n",
    "from scipy.interpolate import griddata\n",
    "from tqdm import tqdm\n",
    "from matplotlib import pyplot as plt\n",
    "from mpl_toolkits.axes_grid1 import make_axes_locatable\n",
    "import matplotlib.gridspec as gridspec\n",
    "import seaborn as sns # Seaborn: A statistical data visualization library\n",
    "import os.path\n",
    "import pickle\n",
    "\n",
    "# Diffrax library imports\n",
    "from diffrax import (\n",
    "    diffeqsolve,\n",
    "    ControlTerm,\n",
    "    Euler,\n",
    "    MultiTerm,\n",
    "    ODETerm,\n",
    "    SaveAt,\n",
    "    VirtualBrownianTree,\n",
    "    WeaklyDiagonalControlTerm\n",
    ")"
   ]
  },
  {
   "cell_type": "code",
   "execution_count": 3,
   "metadata": {},
   "outputs": [],
   "source": [
    "# Define all hyper params here\n",
    "\n",
    "g = 0.03\n",
    "lambda_ = 0.5\n",
    "t0, t1 = 0.0, 10.0\n",
    "num_path_dataset = 500\n",
    "# Define global settings here\n",
    "\n",
    "seed = 2022\n",
    "sns.set_context(\"paper\", rc={\"font.size\":8,\"axes.titlesize\":8,\"axes.labelsize\":5})\n",
    "sns.set(font_scale=1.5, rc={'text.usetex' : False})\n",
    "sns.set(rc={'axes.facecolor':'black', 'figure.facecolor':'white', 'axes.labelcolor' : \"black\", 'text.color' : \"black\"})"
   ]
  },
  {
   "cell_type": "markdown",
   "metadata": {},
   "source": [
    "## Physics System SDE\n",
    "\n",
    "We consider the SDE function defined by $dx = - \\lambda sign(x) x^2 dt + g dW$ with $\\lambda = 7$ and $g = 0.03$ which is easy to find a solution by SDE solver.\n"
   ]
  },
  {
   "cell_type": "code",
   "execution_count": 5,
   "metadata": {},
   "outputs": [],
   "source": [
    "physics_operator = lambda x: - jnp.sign(x) * x * x * lambda_\n",
    "\n",
    "def r_process(initial_value, noise_scaling, seed):\n",
    "    \"\"\"\n",
    "    Simulates a stochastic process using the Euler method.\n",
    "\n",
    "    Parameters:\n",
    "    - initial_value (float): Initial value of the process.\n",
    "    - noise_scaling (float): Scaling factor for the diffusion term (stochastic component).\n",
    "    - seed (int): Seed for random number generation.\n",
    "\n",
    "    Returns:\n",
    "    - sol (numpy.ndarray): Solution of the stochastic process over the specified time interval.\n",
    "    \"\"\"\n",
    "    initial_shape = (1,)\n",
    "    y0 = jnp.ones(shape=initial_shape) * initial_value\n",
    "    drift = lambda t, y, args: physics_operator(y)\n",
    "\n",
    "    diffusion = lambda t, y, args: noise_scaling * jnp.ones(initial_shape)\n",
    "\n",
    "    brownian_motion = VirtualBrownianTree(t0, t1, tol=1e-3, shape=initial_shape, key=jr.PRNGKey(seed))\n",
    "    terms = MultiTerm(ODETerm(drift), WeaklyDiagonalControlTerm(diffusion, brownian_motion))\n",
    "    solver = Euler()\n",
    "    saveat = SaveAt(dense=True)\n",
    "\n",
    "    sol = diffeqsolve(terms, solver, t0, t1, dt0=0.01, y0=y0, saveat=saveat)\n",
    "    \n",
    "    return sol"
   ]
  },
  {
   "cell_type": "markdown",
   "metadata": {},
   "source": [
    "Generate Dataset of num_path_dataset path using solver"
   ]
  },
  {
   "cell_type": "code",
   "execution_count": null,
   "metadata": {},
   "outputs": [],
   "source": [
    "dataset = []\n",
    "x = jnp.linspace(0,10,500)\n",
    "\n",
    "for n in tqdm(range(num_path_dataset)):\n",
    "    sol = r_process((-1) ** n, g, seed+n)\n",
    "    dataset.append(jnp.diag(sol.evaluate(x)))\n",
    "with open('test1_example_data.p', 'wb') as file:\n",
    "    pickle.dump(dataset, file)"
   ]
  }
 ],
 "metadata": {
  "kernelspec": {
   "display_name": "smdp",
   "language": "python",
   "name": "python3"
  },
  "language_info": {
   "codemirror_mode": {
    "name": "ipython",
    "version": 3
   },
   "file_extension": ".py",
   "mimetype": "text/x-python",
   "name": "python",
   "nbconvert_exporter": "python",
   "pygments_lexer": "ipython3",
   "version": "3.8.18"
  }
 },
 "nbformat": 4,
 "nbformat_minor": 2
}
